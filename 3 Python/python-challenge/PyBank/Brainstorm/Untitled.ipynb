{
 "cells": [
  {
   "cell_type": "code",
   "execution_count": 1,
   "metadata": {},
   "outputs": [
    {
     "ename": "KeyError",
     "evalue": "1",
     "output_type": "error",
     "traceback": [
      "\u001b[1;31m---------------------------------------------------------------------------\u001b[0m",
      "\u001b[1;31mKeyError\u001b[0m                                  Traceback (most recent call last)",
      "\u001b[1;32m<ipython-input-1-01d9f11d2de7>\u001b[0m in \u001b[0;36m<module>\u001b[1;34m()\u001b[0m\n\u001b[0;32m     24\u001b[0m \u001b[1;33m\u001b[0m\u001b[0m\n\u001b[0;32m     25\u001b[0m         \u001b[1;31m#calculate total revenue, index for profit/loss is 1\u001b[0m\u001b[1;33m\u001b[0m\u001b[1;33m\u001b[0m\u001b[0m\n\u001b[1;32m---> 26\u001b[1;33m         \u001b[0mtotal_revenue\u001b[0m \u001b[1;33m=\u001b[0m \u001b[0mtotal_revenue\u001b[0m \u001b[1;33m+\u001b[0m \u001b[0mrow\u001b[0m\u001b[1;33m[\u001b[0m\u001b[1;36m1\u001b[0m\u001b[1;33m]\u001b[0m\u001b[1;33m\u001b[0m\u001b[0m\n\u001b[0m\u001b[0;32m     27\u001b[0m \u001b[1;33m\u001b[0m\u001b[0m\n\u001b[0;32m     28\u001b[0m         \u001b[1;31m#calculate revenue change\u001b[0m\u001b[1;33m\u001b[0m\u001b[1;33m\u001b[0m\u001b[0m\n",
      "\u001b[1;31mKeyError\u001b[0m: 1"
     ]
    }
   ],
   "source": [
    "##PYBANK\n",
    "#Dependencies\n",
    "import os\n",
    "import csv\n",
    "\n",
    "#name file path, changed profit/loss column to \"revenue\" for easier understanding\n",
    "PyBank = os.path.join(\"budget_data.csv\")\n",
    "\n",
    "#open lists that will be totaled later\n",
    "prev_revenue = 0 \n",
    "revenue_change_list = []\n",
    "total_revenue = 0\n",
    "total_months = 0\n",
    "avg_revenue_change = 0\n",
    "greatest_increase = [\"\", 0]\n",
    "greatest_decrease = [\"\", 9999999999]\n",
    "\n",
    "# with open csv file (budet_data) as csvfile:\n",
    "with open(PyBank, newline=\"\") as revenue_data:\n",
    "    reader = csv.DictReader(revenue_data)\n",
    "    for row in reader:\n",
    "        #calculate total months\n",
    "        total_months = total_months + 1\n",
    "\n",
    "        #calculate total revenue, index for profit/loss is 1\n",
    "        total_revenue = total_revenue + row[1]\n",
    "\n",
    "        #calculate revenue change\n",
    "        #defining revenue change/ previous revenue starting value is 0 because there is nothing that has come before it but it needs a value\n",
    "        revenue_change = row[1] - prev_revenue \n",
    "\n",
    "        #call append function to add revnue_change to revenue_change_list\n",
    "        revenue_change_list.append(revenue_change)\n",
    "\n",
    "        # prepare previous revenue for the next iteration\n",
    "        prev_revneue = row[1]\n",
    "\n",
    "        #if revenue change is greater than the current record holder for greatest revenue \n",
    "        #rewrite the greatest revenue - rewriting highest score\n",
    "        if (revenue_change > greatest_increase[1]):\n",
    "            greatest_increase[1] = revenue_change\n",
    "            greatest_increase[0] = row[0]\n",
    "        if (revenue_change < greatest_decrease[1]):\n",
    "            greatest_decrease[1] = revenue_change\n",
    "            greatest_decrease[0] = row[0]\n",
    "\n",
    "#to get the average revenue change, you will take the sum of the items we added to the revenue change list and divide by the count aka len of the revenue change list\n",
    "avg_revenue_change = sum(revenue_change_list) / len(revenue_change_list)\n",
    "\n",
    "#cleaner way of printing the values of each is by creating f strings to print the variable values\n",
    "output = (\n",
    "    f\"Financial Analysis \\n\"\n",
    "    f\"Total Months: {total_months}\"\n",
    "    f\"Total Revenue: {total_revenue}\"\n",
    "    f\"Average Revenue Change: {avg_revenue_change}\"\n",
    "    f\"Greatest Increase in Revenue: {greatest_increase[0]} (${greatest_increase[1]})\"\n",
    "    f\"Greatest Decrease in Revenue: {greatest_decrease[0]} (${greatest_decrease[1]})\"\n",
    ")\n",
    "print(output)"
   ]
  },
  {
   "cell_type": "code",
   "execution_count": null,
   "metadata": {},
   "outputs": [],
   "source": []
  }
 ],
 "metadata": {
  "kernelspec": {
   "display_name": "Python 3",
   "language": "python",
   "name": "python3"
  },
  "language_info": {
   "codemirror_mode": {
    "name": "ipython",
    "version": 3
   },
   "file_extension": ".py",
   "mimetype": "text/x-python",
   "name": "python",
   "nbconvert_exporter": "python",
   "pygments_lexer": "ipython3",
   "version": "3.6.5"
  }
 },
 "nbformat": 4,
 "nbformat_minor": 2
}
